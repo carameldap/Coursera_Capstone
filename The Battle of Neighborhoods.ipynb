{
    "cells": [
        {
            "cell_type": "markdown",
            "metadata": {
                "collapsed": true
            },
            "source": "# Peer-graded Assignment: Capstone Project - The Battle of Neighborhoods (Week 1)"
        },
        {
            "cell_type": "markdown",
            "metadata": {},
            "source": "## Introduction & Business Problem :"
        },
        {
            "cell_type": "markdown",
            "metadata": {},
            "source": "### Introduction:"
        },
        {
            "cell_type": "markdown",
            "metadata": {},
            "source": "The New York City is arguably the most populous city and densely populated in the United States. New York City has been described as the cultural, financial, and media capital of the world, significantly influencing commerce,entertainment, research, technology, education, politics, tourism, art, fashion, and sports. Home to the headquarters of the United Nations, New York is an important center for international diplomacy.\n\nThe market is lucrative but highly competitive. The cost of starting up a business is more expensive compared to other cities. Thus, any new business venture or expansion needs to be analysed carefully. The data derived from analysis will give good understanding of the business environment which help in strategically targeting the market. This will help in reduction of risk and predict a reasonable Return on Investment."
        },
        {
            "cell_type": "markdown",
            "metadata": {},
            "source": "### Business Problem:"
        },
        {
            "cell_type": "markdown",
            "metadata": {},
            "source": "A small business owner is planning to open their first bakery in New York City.\nNew York City is famous for its vast variety of cuisine and an array of international cuisine influenced by it's immigrant history.\nAs such, it is evident that to survive in such competitive market it is very important to plan strategically. Various factors need to be studied inorder to decide on the location to open business such as :\n\n1)New York Population\n2)New York City Demographics\n3)Are there any venues like Gyms, Entertainmnet zones, Parks etc nearby where floating population is high etc\n4)Who are the competitors in that location?\n5)Segmentation of the Borough"
        },
        {
            "cell_type": "markdown",
            "metadata": {},
            "source": "### Data:"
        },
        {
            "cell_type": "markdown",
            "metadata": {},
            "source": "We will only be analysing New York City and the below datasets in our analysis \nData 1 : Neighborhood has a total of 5 boroughs and 306 neighborhoods. In order to segement the neighborhoods and explore them, we will essentially need a dataset that contains the 5 boroughs and the neighborhoods that exist in each borough as well as the the latitude and logitude coordinates of each neighborhood.\n\nThis dataset exists for free on the web. Link to the dataset is : https://geo.nyu.edu/catalog/nyu_2451_34572\n\nData 2: New York Population, Demographics and Cuisine of New York city\nhttps://en.wikipedia.org/wiki/New_York_City\nhttps://en.wikipedia.org/wiki/Economy_of_New_York_City\nhttps://en.wikipedia.org/wiki/Portal:New_York_City\nhttps://en.wikipedia.org/wiki/Cuisine_of_New_York_City\n\nData 3 : Newyork city geographical coordinates data will be utilized as input for the Foursquare API, that will be leveraged to provision venues information for each neighborhood.We will use the Foursquare API to explore neighborhoods in New York City."
        },
        {
            "cell_type": "code",
            "execution_count": null,
            "metadata": {},
            "outputs": [],
            "source": ""
        }
    ],
    "metadata": {
        "kernelspec": {
            "display_name": "Python 3.6",
            "language": "python",
            "name": "python3"
        },
        "language_info": {
            "codemirror_mode": {
                "name": "ipython",
                "version": 3
            },
            "file_extension": ".py",
            "mimetype": "text/x-python",
            "name": "python",
            "nbconvert_exporter": "python",
            "pygments_lexer": "ipython3",
            "version": "3.6.9"
        }
    },
    "nbformat": 4,
    "nbformat_minor": 1
}